{
 "cells": [
  {
   "cell_type": "code",
   "execution_count": 1,
   "id": "0a4f33b4",
   "metadata": {},
   "outputs": [],
   "source": [
    "import requests as req\n",
    "from bs4 import BeautifulSoup as bs\n",
    "import pandas as pd\n",
    "import json\n",
    "import selenium\n",
    "from selenium import webdriver\n",
    "from selenium.webdriver.common.keys import Keys\n",
    "import os\n",
    "from selenium.webdriver.chrome.options import Options\n",
    "from selenium.webdriver.common.by import By\n",
    "import time "
   ]
  },
  {
   "cell_type": "code",
   "execution_count": 2,
   "id": "a36b5aac",
   "metadata": {},
   "outputs": [],
   "source": [
    "#driver configuration\n",
    "opciones=Options()\n",
    "\n",
    "opciones.add_experimental_option('excludeSwitches', ['enable-automation'])\n",
    "opciones.add_experimental_option('useAutomationExtension', False)\n",
    "opciones.headless=False    # si True, no aperece la ventana (headless=no visible)\n",
    "opciones.add_argument('--start-maximized')         # comienza maximizado\n",
    "#opciones.add_argument('user-data-dir=selenium')    # mantiene las cookies\n",
    "#opciones.add_extension('driver_folder/adblock.crx')       # adblocker\n",
    "opciones.add_argument('--incognito')\n",
    "opciones.add_argument(\"--no-sandbox\")\n",
    "opciones.add_argument(\"--disable-setuid-sandbox\")"
   ]
  },
  {
   "cell_type": "code",
   "execution_count": 32,
   "id": "7f60a989",
   "metadata": {
    "scrolled": true
   },
   "outputs": [
    {
     "name": "stderr",
     "output_type": "stream",
     "text": [
      "/tmp/ipykernel_1677/700515307.py:2: DeprecationWarning: executable_path has been deprecated, please pass in a Service object\n",
      "  driver = webdriver.Chrome(driver,options = opciones)\n"
     ]
    }
   ],
   "source": [
    "driver = \"./chromedriver.exe\"\n",
    "driver = webdriver.Chrome(driver,options = opciones)"
   ]
  },
  {
   "cell_type": "code",
   "execution_count": 33,
   "id": "30f42d3b",
   "metadata": {},
   "outputs": [
    {
     "name": "stderr",
     "output_type": "stream",
     "text": [
      "/tmp/ipykernel_1677/875107506.py:6: DeprecationWarning: find_element_by_* commands are deprecated. Please use find_element() instead\n",
      "  boton = driver.find_element_by_css_selector(\"#content > div.anim-in-out.anim-fade.ng-scope > md-tabs > md-tabs-wrapper > md-tabs-canvas > md-pagination-wrapper > md-tab-item:nth-child(2)\")\n"
     ]
    }
   ],
   "source": [
    "#empezamos con selenium\n",
    "\n",
    "url = 'https://statpedia.com/stat/Average_Yearly_Temperature_by_Country/HJd7OcGK'\n",
    "driver.get(url)\n",
    "time.sleep(5)\n",
    "boton = driver.find_element_by_css_selector(\"#content > div.anim-in-out.anim-fade.ng-scope > md-tabs > md-tabs-wrapper > md-tabs-canvas > md-pagination-wrapper > md-tab-item:nth-child(2)\")\n",
    "boton.click()"
   ]
  },
  {
   "cell_type": "code",
   "execution_count": 34,
   "id": "11d626a9",
   "metadata": {},
   "outputs": [],
   "source": [
    "#driver.switch_to.frame(driver.find_element_by_xpath('//*[@id=\"ht_a2236a8e830fc75d\"]'))\n",
    "driver.execute_script(\"$('wtHolder').animate({scrollTop: '100px'})\")"
   ]
  },
  {
   "cell_type": "code",
   "execution_count": 35,
   "id": "25ab3a82",
   "metadata": {},
   "outputs": [
    {
     "data": {
      "text/plain": [
       "'\\nSCROLL_PAUSE_TIME = 0.5\\n\\n# Get scroll height\\nlast_height = driver.execute_script(\"return document.body.scrollHeight\")\\n\\nelement=driver.find_element_by_css_selector(\\'#ht_93cc15d3815a0d99 > div.ht_master.handsontable > div > div > div > table > tbody > tr:nth-child(40) > td:nth-child(1)\\')\\n\\nwhile True:\\n    # Scroll down to bottom\\n    element.location_once_scrolled_into_view\\n    \\n    # Wait to load page\\n    time.sleep(SCROLL_PAUSE_TIME)\\n\\n    # Calculate new scroll height and compare with last scroll height\\n    new_height = element.execute_script(\"return document.documentElement.scrollHeight\")\\n    if new_height == last_height:\\n        break\\n    last_height = new_height'"
      ]
     },
     "execution_count": 35,
     "metadata": {},
     "output_type": "execute_result"
    }
   ],
   "source": [
    "'''\n",
    "SCROLL_PAUSE_TIME = 0.5\n",
    "\n",
    "# Get scroll height\n",
    "last_height = driver.execute_script(\"return document.body.scrollHeight\")\n",
    "\n",
    "element=driver.find_element_by_css_selector('#ht_93cc15d3815a0d99 > div.ht_master.handsontable > div > div > div > table > tbody > tr:nth-child(40) > td:nth-child(1)')\n",
    "\n",
    "while True:\n",
    "    # Scroll down to bottom\n",
    "    element.location_once_scrolled_into_view\n",
    "    \n",
    "    # Wait to load page\n",
    "    time.sleep(SCROLL_PAUSE_TIME)\n",
    "\n",
    "    # Calculate new scroll height and compare with last scroll height\n",
    "    new_height = element.execute_script(\"return document.documentElement.scrollHeight\")\n",
    "    if new_height == last_height:\n",
    "        break\n",
    "    last_height = new_height'''\n",
    "    \n"
   ]
  },
  {
   "cell_type": "code",
   "execution_count": 36,
   "id": "ab2910d4",
   "metadata": {},
   "outputs": [
    {
     "name": "stderr",
     "output_type": "stream",
     "text": [
      "/tmp/ipykernel_1677/500923466.py:1: DeprecationWarning: find_element_by_* commands are deprecated. Please use find_element() instead\n",
      "  tabla=driver.find_element_by_tag_name('tbody')\n",
      "/tmp/ipykernel_1677/500923466.py:8: DeprecationWarning: find_element_by_* commands are deprecated. Please use find_element() instead\n",
      "  cabeceras=driver.find_element_by_tag_name('thead')\n"
     ]
    }
   ],
   "source": [
    "tabla=driver.find_element_by_tag_name('tbody')\n",
    "\n",
    "filas=tabla.find_elements_by_tag_name('tr')\n",
    "\n",
    "\n",
    "data=[[e.text for e in f.find_elements_by_tag_name('td')] for f in filas]\n",
    "\n",
    "cabeceras=driver.find_element_by_tag_name('thead')\n",
    "\n",
    "cabeceras=[c.text for c in cabeceras.find_elements_by_tag_name('th')]\n",
    "\n",
    "#driver.quit()"
   ]
  },
  {
   "cell_type": "code",
   "execution_count": 37,
   "id": "798573e4",
   "metadata": {},
   "outputs": [
    {
     "data": {
      "text/plain": [
       "[['', 'Temperature in Celsius', ''],\n",
       " ['Afghanistan', '12.6', ''],\n",
       " ['Albania', '11.4', ''],\n",
       " ['Algeria', '22.5', ''],\n",
       " ['Andorra', '7.6', ''],\n",
       " ['Angola', '21.55', ''],\n",
       " ['Argentina', '14.8', ''],\n",
       " ['Armenia', '7.15', ''],\n",
       " ['Australia', '21.65', ''],\n",
       " ['Austria', '6.35', ''],\n",
       " ['Azerbaijan', '11.95', ''],\n",
       " ['Bahamas', '24.85', ''],\n",
       " ['Bahrain', '27.15', ''],\n",
       " ['Bangladesh', '25', ''],\n",
       " ['Barbados', '26', ''],\n",
       " ['Belarus', '6.15', ''],\n",
       " ['Belgium', '9.55', '']]"
      ]
     },
     "execution_count": 37,
     "metadata": {},
     "output_type": "execute_result"
    }
   ],
   "source": [
    "data"
   ]
  },
  {
   "cell_type": "code",
   "execution_count": 19,
   "id": "d57ae11b",
   "metadata": {},
   "outputs": [
    {
     "name": "stderr",
     "output_type": "stream",
     "text": [
      "/home/sergiooo/anaconda3/envs/new1/lib/python3.8/site-packages/selenium/webdriver/remote/webelement.py:393: UserWarning: find_element_by_* commands are deprecated. Please use find_element() instead\n",
      "  warnings.warn(\"find_element_by_* commands are deprecated. Please use find_element() instead\")\n"
     ]
    },
    {
     "name": "stdout",
     "output_type": "stream",
     "text": [
      "Temperature in Celsius\n",
      "Afghanistan 12.6\n",
      "Albania 11.4\n",
      "Algeria 22.5\n",
      "Andorra 7.6\n",
      "Angola 21.55\n",
      "Argentina 14.8\n",
      "Armenia 7.15\n",
      "Australia 21.65\n",
      "Austria 6.35\n",
      "Azerbaijan 11.95\n",
      "Bahamas 24.85\n",
      "Bahrain 27.15\n",
      "Bangladesh 25\n",
      "Barbados 26\n",
      "Belarus 6.15\n",
      "Belgium 9.55\n"
     ]
    },
    {
     "ename": "NoSuchElementException",
     "evalue": "Message: no such element: Unable to locate element: {\"method\":\"xpath\",\"selector\":\"/html/body/div[1]/div/div/section/div[1]/md-tabs/md-tabs-content-wrapper/md-tab-content[2]/div/md-content/div/hot-table/div/div[1]/div/div/div/table/tbody/tr[18]\"}\n  (Session info: chrome=98.0.4758.82)\nStacktrace:\nBacktrace:\n\tOrdinal0 [0x00D7FDC3+2555331]\n\tOrdinal0 [0x00D177F1+2127857]\n\tOrdinal0 [0x00C12E08+1060360]\n\tOrdinal0 [0x00C3E49E+1238174]\n\tOrdinal0 [0x00C3E69B+1238683]\n\tOrdinal0 [0x00C34A01+1198593]\n\tOrdinal0 [0x00C57B54+1342292]\n\tOrdinal0 [0x00C34984+1198468]\n\tOrdinal0 [0x00C57C14+1342484]\n\tOrdinal0 [0x00C675FA+1406458]\n\tOrdinal0 [0x00C57976+1341814]\n\tOrdinal0 [0x00C336B6+1193654]\n\tOrdinal0 [0x00C34546+1197382]\n\tGetHandleVerifier [0x00F19622+1619522]\n\tGetHandleVerifier [0x00FC882C+2336844]\n\tGetHandleVerifier [0x00E123E1+541697]\n\tGetHandleVerifier [0x00E11443+537699]\n\tOrdinal0 [0x00D1D18E+2150798]\n\tOrdinal0 [0x00D21518+2168088]\n\tOrdinal0 [0x00D21660+2168416]\n\tOrdinal0 [0x00D2B330+2208560]\n\tBaseThreadInitThunk [0x776CFA29+25]\n\tRtlGetAppContainerNamedObjectPath [0x77817A9E+286]\n\tRtlGetAppContainerNamedObjectPath [0x77817A6E+238]\n",
     "output_type": "error",
     "traceback": [
      "\u001b[0;31m---------------------------------------------------------------------------\u001b[0m",
      "\u001b[0;31mNoSuchElementException\u001b[0m                    Traceback (most recent call last)",
      "\u001b[0;32m/tmp/ipykernel_1677/1464870419.py\u001b[0m in \u001b[0;36m<module>\u001b[0;34m\u001b[0m\n\u001b[1;32m      2\u001b[0m \u001b[0;31m#tabla=driver.find_element_by_xpath('/html/body/div[1]/div/div/section/div[1]/md-tabs/md-tabs-content-wrapper/md-tab-content[2]/div/md-content/div/hot-table/div')\u001b[0m\u001b[0;34m\u001b[0m\u001b[0;34m\u001b[0m\u001b[0;34m\u001b[0m\u001b[0m\n\u001b[1;32m      3\u001b[0m \u001b[0;32mfor\u001b[0m \u001b[0mi\u001b[0m \u001b[0;32min\u001b[0m \u001b[0mrange\u001b[0m \u001b[0;34m(\u001b[0m\u001b[0;36m1\u001b[0m\u001b[0;34m,\u001b[0m\u001b[0;36m23\u001b[0m\u001b[0;34m)\u001b[0m\u001b[0;34m:\u001b[0m\u001b[0;34m\u001b[0m\u001b[0;34m\u001b[0m\u001b[0m\n\u001b[0;32m----> 4\u001b[0;31m     \u001b[0mtaula\u001b[0m \u001b[0;34m=\u001b[0m \u001b[0mtabla\u001b[0m\u001b[0;34m.\u001b[0m\u001b[0mfind_element_by_xpath\u001b[0m\u001b[0;34m(\u001b[0m\u001b[0;34mf'/html/body/div[1]/div/div/section/div[1]/md-tabs/md-tabs-content-wrapper/md-tab-content[2]/div/md-content/div/hot-table/div/div[1]/div/div/div/table/tbody/tr[{i}]'\u001b[0m\u001b[0;34m)\u001b[0m\u001b[0;34m\u001b[0m\u001b[0;34m\u001b[0m\u001b[0m\n\u001b[0m\u001b[1;32m      5\u001b[0m     \u001b[0;31m#rows = taula.find_elements_by_tag_name('tr')\u001b[0m\u001b[0;34m\u001b[0m\u001b[0;34m\u001b[0m\u001b[0;34m\u001b[0m\u001b[0m\n\u001b[1;32m      6\u001b[0m     \u001b[0;31m#para conseguir todos los datos hay que scroll dentro de la tabla\u001b[0m\u001b[0;34m\u001b[0m\u001b[0;34m\u001b[0m\u001b[0;34m\u001b[0m\u001b[0m\n",
      "\u001b[0;32m~/anaconda3/envs/new1/lib/python3.8/site-packages/selenium/webdriver/remote/webelement.py\u001b[0m in \u001b[0;36mfind_element_by_xpath\u001b[0;34m(self, xpath)\u001b[0m\n\u001b[1;32m    392\u001b[0m         \"\"\"\n\u001b[1;32m    393\u001b[0m         \u001b[0mwarnings\u001b[0m\u001b[0;34m.\u001b[0m\u001b[0mwarn\u001b[0m\u001b[0;34m(\u001b[0m\u001b[0;34m\"find_element_by_* commands are deprecated. Please use find_element() instead\"\u001b[0m\u001b[0;34m)\u001b[0m\u001b[0;34m\u001b[0m\u001b[0;34m\u001b[0m\u001b[0m\n\u001b[0;32m--> 394\u001b[0;31m         \u001b[0;32mreturn\u001b[0m \u001b[0mself\u001b[0m\u001b[0;34m.\u001b[0m\u001b[0mfind_element\u001b[0m\u001b[0;34m(\u001b[0m\u001b[0mby\u001b[0m\u001b[0;34m=\u001b[0m\u001b[0mBy\u001b[0m\u001b[0;34m.\u001b[0m\u001b[0mXPATH\u001b[0m\u001b[0;34m,\u001b[0m \u001b[0mvalue\u001b[0m\u001b[0;34m=\u001b[0m\u001b[0mxpath\u001b[0m\u001b[0;34m)\u001b[0m\u001b[0;34m\u001b[0m\u001b[0;34m\u001b[0m\u001b[0m\n\u001b[0m\u001b[1;32m    395\u001b[0m \u001b[0;34m\u001b[0m\u001b[0m\n\u001b[1;32m    396\u001b[0m     \u001b[0;32mdef\u001b[0m \u001b[0mfind_elements_by_xpath\u001b[0m\u001b[0;34m(\u001b[0m\u001b[0mself\u001b[0m\u001b[0;34m,\u001b[0m \u001b[0mxpath\u001b[0m\u001b[0;34m)\u001b[0m\u001b[0;34m:\u001b[0m\u001b[0;34m\u001b[0m\u001b[0;34m\u001b[0m\u001b[0m\n",
      "\u001b[0;32m~/anaconda3/envs/new1/lib/python3.8/site-packages/selenium/webdriver/remote/webelement.py\u001b[0m in \u001b[0;36mfind_element\u001b[0;34m(self, by, value)\u001b[0m\n\u001b[1;32m    733\u001b[0m             \u001b[0mvalue\u001b[0m \u001b[0;34m=\u001b[0m \u001b[0;34m'[name=\"%s\"]'\u001b[0m \u001b[0;34m%\u001b[0m \u001b[0mvalue\u001b[0m\u001b[0;34m\u001b[0m\u001b[0;34m\u001b[0m\u001b[0m\n\u001b[1;32m    734\u001b[0m \u001b[0;34m\u001b[0m\u001b[0m\n\u001b[0;32m--> 735\u001b[0;31m         return self._execute(Command.FIND_CHILD_ELEMENT,\n\u001b[0m\u001b[1;32m    736\u001b[0m                              {\"using\": by, \"value\": value})['value']\n\u001b[1;32m    737\u001b[0m \u001b[0;34m\u001b[0m\u001b[0m\n",
      "\u001b[0;32m~/anaconda3/envs/new1/lib/python3.8/site-packages/selenium/webdriver/remote/webelement.py\u001b[0m in \u001b[0;36m_execute\u001b[0;34m(self, command, params)\u001b[0m\n\u001b[1;32m    708\u001b[0m             \u001b[0mparams\u001b[0m \u001b[0;34m=\u001b[0m \u001b[0;34m{\u001b[0m\u001b[0;34m}\u001b[0m\u001b[0;34m\u001b[0m\u001b[0;34m\u001b[0m\u001b[0m\n\u001b[1;32m    709\u001b[0m         \u001b[0mparams\u001b[0m\u001b[0;34m[\u001b[0m\u001b[0;34m'id'\u001b[0m\u001b[0;34m]\u001b[0m \u001b[0;34m=\u001b[0m \u001b[0mself\u001b[0m\u001b[0;34m.\u001b[0m\u001b[0m_id\u001b[0m\u001b[0;34m\u001b[0m\u001b[0;34m\u001b[0m\u001b[0m\n\u001b[0;32m--> 710\u001b[0;31m         \u001b[0;32mreturn\u001b[0m \u001b[0mself\u001b[0m\u001b[0;34m.\u001b[0m\u001b[0m_parent\u001b[0m\u001b[0;34m.\u001b[0m\u001b[0mexecute\u001b[0m\u001b[0;34m(\u001b[0m\u001b[0mcommand\u001b[0m\u001b[0;34m,\u001b[0m \u001b[0mparams\u001b[0m\u001b[0;34m)\u001b[0m\u001b[0;34m\u001b[0m\u001b[0;34m\u001b[0m\u001b[0m\n\u001b[0m\u001b[1;32m    711\u001b[0m \u001b[0;34m\u001b[0m\u001b[0m\n\u001b[1;32m    712\u001b[0m     \u001b[0;32mdef\u001b[0m \u001b[0mfind_element\u001b[0m\u001b[0;34m(\u001b[0m\u001b[0mself\u001b[0m\u001b[0;34m,\u001b[0m \u001b[0mby\u001b[0m\u001b[0;34m=\u001b[0m\u001b[0mBy\u001b[0m\u001b[0;34m.\u001b[0m\u001b[0mID\u001b[0m\u001b[0;34m,\u001b[0m \u001b[0mvalue\u001b[0m\u001b[0;34m=\u001b[0m\u001b[0;32mNone\u001b[0m\u001b[0;34m)\u001b[0m\u001b[0;34m:\u001b[0m\u001b[0;34m\u001b[0m\u001b[0;34m\u001b[0m\u001b[0m\n",
      "\u001b[0;32m~/anaconda3/envs/new1/lib/python3.8/site-packages/selenium/webdriver/remote/webdriver.py\u001b[0m in \u001b[0;36mexecute\u001b[0;34m(self, driver_command, params)\u001b[0m\n\u001b[1;32m    422\u001b[0m         \u001b[0mresponse\u001b[0m \u001b[0;34m=\u001b[0m \u001b[0mself\u001b[0m\u001b[0;34m.\u001b[0m\u001b[0mcommand_executor\u001b[0m\u001b[0;34m.\u001b[0m\u001b[0mexecute\u001b[0m\u001b[0;34m(\u001b[0m\u001b[0mdriver_command\u001b[0m\u001b[0;34m,\u001b[0m \u001b[0mparams\u001b[0m\u001b[0;34m)\u001b[0m\u001b[0;34m\u001b[0m\u001b[0;34m\u001b[0m\u001b[0m\n\u001b[1;32m    423\u001b[0m         \u001b[0;32mif\u001b[0m \u001b[0mresponse\u001b[0m\u001b[0;34m:\u001b[0m\u001b[0;34m\u001b[0m\u001b[0;34m\u001b[0m\u001b[0m\n\u001b[0;32m--> 424\u001b[0;31m             \u001b[0mself\u001b[0m\u001b[0;34m.\u001b[0m\u001b[0merror_handler\u001b[0m\u001b[0;34m.\u001b[0m\u001b[0mcheck_response\u001b[0m\u001b[0;34m(\u001b[0m\u001b[0mresponse\u001b[0m\u001b[0;34m)\u001b[0m\u001b[0;34m\u001b[0m\u001b[0;34m\u001b[0m\u001b[0m\n\u001b[0m\u001b[1;32m    425\u001b[0m             response['value'] = self._unwrap_value(\n\u001b[1;32m    426\u001b[0m                 response.get('value', None))\n",
      "\u001b[0;32m~/anaconda3/envs/new1/lib/python3.8/site-packages/selenium/webdriver/remote/errorhandler.py\u001b[0m in \u001b[0;36mcheck_response\u001b[0;34m(self, response)\u001b[0m\n\u001b[1;32m    245\u001b[0m                 \u001b[0malert_text\u001b[0m \u001b[0;34m=\u001b[0m \u001b[0mvalue\u001b[0m\u001b[0;34m[\u001b[0m\u001b[0;34m'alert'\u001b[0m\u001b[0;34m]\u001b[0m\u001b[0;34m.\u001b[0m\u001b[0mget\u001b[0m\u001b[0;34m(\u001b[0m\u001b[0;34m'text'\u001b[0m\u001b[0;34m)\u001b[0m\u001b[0;34m\u001b[0m\u001b[0;34m\u001b[0m\u001b[0m\n\u001b[1;32m    246\u001b[0m             \u001b[0;32mraise\u001b[0m \u001b[0mexception_class\u001b[0m\u001b[0;34m(\u001b[0m\u001b[0mmessage\u001b[0m\u001b[0;34m,\u001b[0m \u001b[0mscreen\u001b[0m\u001b[0;34m,\u001b[0m \u001b[0mstacktrace\u001b[0m\u001b[0;34m,\u001b[0m \u001b[0malert_text\u001b[0m\u001b[0;34m)\u001b[0m  \u001b[0;31m# type: ignore[call-arg]  # mypy is not smart enough here\u001b[0m\u001b[0;34m\u001b[0m\u001b[0;34m\u001b[0m\u001b[0m\n\u001b[0;32m--> 247\u001b[0;31m         \u001b[0;32mraise\u001b[0m \u001b[0mexception_class\u001b[0m\u001b[0;34m(\u001b[0m\u001b[0mmessage\u001b[0m\u001b[0;34m,\u001b[0m \u001b[0mscreen\u001b[0m\u001b[0;34m,\u001b[0m \u001b[0mstacktrace\u001b[0m\u001b[0;34m)\u001b[0m\u001b[0;34m\u001b[0m\u001b[0;34m\u001b[0m\u001b[0m\n\u001b[0m\u001b[1;32m    248\u001b[0m \u001b[0;34m\u001b[0m\u001b[0m\n\u001b[1;32m    249\u001b[0m     \u001b[0;32mdef\u001b[0m \u001b[0m_value_or_default\u001b[0m\u001b[0;34m(\u001b[0m\u001b[0mself\u001b[0m\u001b[0;34m,\u001b[0m \u001b[0mobj\u001b[0m\u001b[0;34m:\u001b[0m \u001b[0mMapping\u001b[0m\u001b[0;34m[\u001b[0m\u001b[0m_KT\u001b[0m\u001b[0;34m,\u001b[0m \u001b[0m_VT\u001b[0m\u001b[0;34m]\u001b[0m\u001b[0;34m,\u001b[0m \u001b[0mkey\u001b[0m\u001b[0;34m:\u001b[0m \u001b[0m_KT\u001b[0m\u001b[0;34m,\u001b[0m \u001b[0mdefault\u001b[0m\u001b[0;34m:\u001b[0m \u001b[0m_VT\u001b[0m\u001b[0;34m)\u001b[0m \u001b[0;34m->\u001b[0m \u001b[0m_VT\u001b[0m\u001b[0;34m:\u001b[0m\u001b[0;34m\u001b[0m\u001b[0;34m\u001b[0m\u001b[0m\n",
      "\u001b[0;31mNoSuchElementException\u001b[0m: Message: no such element: Unable to locate element: {\"method\":\"xpath\",\"selector\":\"/html/body/div[1]/div/div/section/div[1]/md-tabs/md-tabs-content-wrapper/md-tab-content[2]/div/md-content/div/hot-table/div/div[1]/div/div/div/table/tbody/tr[18]\"}\n  (Session info: chrome=98.0.4758.82)\nStacktrace:\nBacktrace:\n\tOrdinal0 [0x00D7FDC3+2555331]\n\tOrdinal0 [0x00D177F1+2127857]\n\tOrdinal0 [0x00C12E08+1060360]\n\tOrdinal0 [0x00C3E49E+1238174]\n\tOrdinal0 [0x00C3E69B+1238683]\n\tOrdinal0 [0x00C34A01+1198593]\n\tOrdinal0 [0x00C57B54+1342292]\n\tOrdinal0 [0x00C34984+1198468]\n\tOrdinal0 [0x00C57C14+1342484]\n\tOrdinal0 [0x00C675FA+1406458]\n\tOrdinal0 [0x00C57976+1341814]\n\tOrdinal0 [0x00C336B6+1193654]\n\tOrdinal0 [0x00C34546+1197382]\n\tGetHandleVerifier [0x00F19622+1619522]\n\tGetHandleVerifier [0x00FC882C+2336844]\n\tGetHandleVerifier [0x00E123E1+541697]\n\tGetHandleVerifier [0x00E11443+537699]\n\tOrdinal0 [0x00D1D18E+2150798]\n\tOrdinal0 [0x00D21518+2168088]\n\tOrdinal0 [0x00D21660+2168416]\n\tOrdinal0 [0x00D2B330+2208560]\n\tBaseThreadInitThunk [0x776CFA29+25]\n\tRtlGetAppContainerNamedObjectPath [0x77817A9E+286]\n\tRtlGetAppContainerNamedObjectPath [0x77817A6E+238]\n"
     ]
    }
   ],
   "source": [
    "#selenium\n",
    "#tabla=driver.find_element_by_xpath('/html/body/div[1]/div/div/section/div[1]/md-tabs/md-tabs-content-wrapper/md-tab-content[2]/div/md-content/div/hot-table/div')\n",
    "for i in range (1,23):\n",
    "    taula = tabla.find_element_by_xpath(f'/html/body/div[1]/div/div/section/div[1]/md-tabs/md-tabs-content-wrapper/md-tab-content[2]/div/md-content/div/hot-table/div/div[1]/div/div/div/table/tbody/tr[{i}]')\n",
    "    #rows = taula.find_elements_by_tag_name('tr')\n",
    "    #para conseguir todos los datos hay que scroll dentro de la tabla\n",
    "    print(taula.text)\n",
    "#print([i.text for i in rows])\n",
    "driver.implicitly_wait(3)"
   ]
  },
  {
   "cell_type": "code",
   "execution_count": null,
   "id": "89a39090",
   "metadata": {},
   "outputs": [],
   "source": []
  }
 ],
 "metadata": {
  "kernelspec": {
   "display_name": "new1",
   "language": "python",
   "name": "new1"
  },
  "language_info": {
   "codemirror_mode": {
    "name": "ipython",
    "version": 3
   },
   "file_extension": ".py",
   "mimetype": "text/x-python",
   "name": "python",
   "nbconvert_exporter": "python",
   "pygments_lexer": "ipython3",
   "version": "3.8.12"
  }
 },
 "nbformat": 4,
 "nbformat_minor": 5
}
