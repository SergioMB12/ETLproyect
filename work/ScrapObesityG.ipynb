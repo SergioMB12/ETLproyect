{
 "cells": [
  {
   "cell_type": "code",
   "execution_count": 1,
   "id": "f8e14461",
   "metadata": {},
   "outputs": [],
   "source": [
    "import requests as req\n",
    "from bs4 import BeautifulSoup as bs\n",
    "import pandas as pd\n",
    "import time \n",
    "import numpy as np"
   ]
  },
  {
   "cell_type": "code",
   "execution_count": 2,
   "id": "d7687a5a",
   "metadata": {},
   "outputs": [
    {
     "data": {
      "text/plain": [
       "bs4.element.ResultSet"
      ]
     },
     "execution_count": 2,
     "metadata": {},
     "output_type": "execute_result"
    }
   ],
   "source": [
    "url='https://en.wikipedia.org/wiki/List_of_countries_by_obesity_rate'\n",
    "html=req.get(url)\n",
    "soup = bs(html.text,'html.parser')\n",
    "tabla = soup.find_all('table')\n",
    "type(tabla)"
   ]
  },
  {
   "cell_type": "code",
   "execution_count": 3,
   "id": "cfccbf4a",
   "metadata": {},
   "outputs": [],
   "source": [
    "link=tabla[0].find_all('tr')"
   ]
  },
  {
   "cell_type": "code",
   "execution_count": 4,
   "id": "d2665b8b",
   "metadata": {},
   "outputs": [],
   "source": [
    "arr = []\n",
    "for b in range(0,129):\n",
    "    arr.append(link[b].text.strip().split('\\n'))"
   ]
  },
  {
   "cell_type": "code",
   "execution_count": 5,
   "id": "51ce062a",
   "metadata": {},
   "outputs": [],
   "source": [
    "df= pd.DataFrame(arr)"
   ]
  },
  {
   "cell_type": "code",
   "execution_count": 6,
   "id": "dbb046ec",
   "metadata": {},
   "outputs": [
    {
     "data": {
      "text/html": [
       "<div>\n",
       "<style scoped>\n",
       "    .dataframe tbody tr th:only-of-type {\n",
       "        vertical-align: middle;\n",
       "    }\n",
       "\n",
       "    .dataframe tbody tr th {\n",
       "        vertical-align: top;\n",
       "    }\n",
       "\n",
       "    .dataframe thead th {\n",
       "        text-align: right;\n",
       "    }\n",
       "</style>\n",
       "<table border=\"1\" class=\"dataframe\">\n",
       "  <thead>\n",
       "    <tr style=\"text-align: right;\">\n",
       "      <th></th>\n",
       "      <th>0</th>\n",
       "      <th>1</th>\n",
       "      <th>2</th>\n",
       "      <th>3</th>\n",
       "      <th>4</th>\n",
       "    </tr>\n",
       "  </thead>\n",
       "  <tbody>\n",
       "    <tr>\n",
       "      <th>0</th>\n",
       "      <td>Country</td>\n",
       "      <td></td>\n",
       "      <td>Rank</td>\n",
       "      <td></td>\n",
       "      <td>Obesity rate % (2016)</td>\n",
       "    </tr>\n",
       "    <tr>\n",
       "      <th>1</th>\n",
       "      <td>Nauru</td>\n",
       "      <td></td>\n",
       "      <td>1</td>\n",
       "      <td></td>\n",
       "      <td>61.00</td>\n",
       "    </tr>\n",
       "    <tr>\n",
       "      <th>2</th>\n",
       "      <td>Cook Islands</td>\n",
       "      <td></td>\n",
       "      <td>2</td>\n",
       "      <td></td>\n",
       "      <td>55.90</td>\n",
       "    </tr>\n",
       "    <tr>\n",
       "      <th>3</th>\n",
       "      <td>Palau</td>\n",
       "      <td></td>\n",
       "      <td>3</td>\n",
       "      <td></td>\n",
       "      <td>55.30</td>\n",
       "    </tr>\n",
       "    <tr>\n",
       "      <th>4</th>\n",
       "      <td>Marshall Islands</td>\n",
       "      <td></td>\n",
       "      <td>4</td>\n",
       "      <td></td>\n",
       "      <td>52.90</td>\n",
       "    </tr>\n",
       "    <tr>\n",
       "      <th>...</th>\n",
       "      <td>...</td>\n",
       "      <td>...</td>\n",
       "      <td>...</td>\n",
       "      <td>...</td>\n",
       "      <td>...</td>\n",
       "    </tr>\n",
       "    <tr>\n",
       "      <th>124</th>\n",
       "      <td>Eswatini</td>\n",
       "      <td></td>\n",
       "      <td>124</td>\n",
       "      <td></td>\n",
       "      <td>16.50</td>\n",
       "    </tr>\n",
       "    <tr>\n",
       "      <th>125</th>\n",
       "      <td>Malaysia</td>\n",
       "      <td></td>\n",
       "      <td>125</td>\n",
       "      <td></td>\n",
       "      <td>15.60</td>\n",
       "    </tr>\n",
       "    <tr>\n",
       "      <th>126</th>\n",
       "      <td>Zimbabwe</td>\n",
       "      <td></td>\n",
       "      <td>126</td>\n",
       "      <td></td>\n",
       "      <td>15.50</td>\n",
       "    </tr>\n",
       "    <tr>\n",
       "      <th>127</th>\n",
       "      <td>Gabon</td>\n",
       "      <td></td>\n",
       "      <td>127</td>\n",
       "      <td></td>\n",
       "      <td>15.00</td>\n",
       "    </tr>\n",
       "    <tr>\n",
       "      <th>128</th>\n",
       "      <td>Tajikistan</td>\n",
       "      <td></td>\n",
       "      <td>128</td>\n",
       "      <td></td>\n",
       "      <td>14.20</td>\n",
       "    </tr>\n",
       "  </tbody>\n",
       "</table>\n",
       "<p>129 rows × 5 columns</p>\n",
       "</div>"
      ],
      "text/plain": [
       "                    0 1      2 3                       4\n",
       "0             Country     Rank     Obesity rate % (2016)\n",
       "1               Nauru        1                     61.00\n",
       "2        Cook Islands        2                     55.90\n",
       "3               Palau        3                     55.30\n",
       "4    Marshall Islands        4                     52.90\n",
       "..                ... ..   ... ..                    ...\n",
       "124          Eswatini      124                     16.50\n",
       "125          Malaysia      125                     15.60\n",
       "126          Zimbabwe      126                     15.50\n",
       "127             Gabon      127                     15.00\n",
       "128        Tajikistan      128                     14.20\n",
       "\n",
       "[129 rows x 5 columns]"
      ]
     },
     "execution_count": 6,
     "metadata": {},
     "output_type": "execute_result"
    }
   ],
   "source": [
    "df"
   ]
  },
  {
   "cell_type": "code",
   "execution_count": 7,
   "id": "86fd3a60",
   "metadata": {},
   "outputs": [],
   "source": [
    "df1 = df.drop(columns = [1,2,3,]) #Elimino las columnas que no me interesan"
   ]
  },
  {
   "cell_type": "code",
   "execution_count": 8,
   "id": "716d8ea0",
   "metadata": {},
   "outputs": [],
   "source": [
    "df1.columns = ['country','obesityrate%']\n",
    "#Cambio los nombres de mis actuales columnas para que esten mas claros y me sea mas sencillo trabajar"
   ]
  },
  {
   "cell_type": "code",
   "execution_count": 9,
   "id": "6e698e24",
   "metadata": {},
   "outputs": [],
   "source": [
    "dff = df1.drop([0],axis=0) #elimino la primera final "
   ]
  },
  {
   "cell_type": "code",
   "execution_count": 10,
   "id": "32621607",
   "metadata": {},
   "outputs": [],
   "source": [
    "dff.reset_index(inplace=True) #reseteo el indice tras eliminar la primera fila"
   ]
  },
  {
   "cell_type": "code",
   "execution_count": 15,
   "id": "1255410a",
   "metadata": {},
   "outputs": [],
   "source": [
    "y = (dff.drop(['index'], axis=1)) #elimino la columna indices que se me habia creado "
   ]
  },
  {
   "cell_type": "code",
   "execution_count": 16,
   "id": "13831fbc",
   "metadata": {},
   "outputs": [
    {
     "data": {
      "text/html": [
       "<div>\n",
       "<style scoped>\n",
       "    .dataframe tbody tr th:only-of-type {\n",
       "        vertical-align: middle;\n",
       "    }\n",
       "\n",
       "    .dataframe tbody tr th {\n",
       "        vertical-align: top;\n",
       "    }\n",
       "\n",
       "    .dataframe thead th {\n",
       "        text-align: right;\n",
       "    }\n",
       "</style>\n",
       "<table border=\"1\" class=\"dataframe\">\n",
       "  <thead>\n",
       "    <tr style=\"text-align: right;\">\n",
       "      <th></th>\n",
       "      <th>country</th>\n",
       "      <th>obesityrate%</th>\n",
       "    </tr>\n",
       "  </thead>\n",
       "  <tbody>\n",
       "    <tr>\n",
       "      <th>0</th>\n",
       "      <td>Nauru</td>\n",
       "      <td>61.00</td>\n",
       "    </tr>\n",
       "    <tr>\n",
       "      <th>1</th>\n",
       "      <td>Cook Islands</td>\n",
       "      <td>55.90</td>\n",
       "    </tr>\n",
       "    <tr>\n",
       "      <th>2</th>\n",
       "      <td>Palau</td>\n",
       "      <td>55.30</td>\n",
       "    </tr>\n",
       "    <tr>\n",
       "      <th>3</th>\n",
       "      <td>Marshall Islands</td>\n",
       "      <td>52.90</td>\n",
       "    </tr>\n",
       "    <tr>\n",
       "      <th>4</th>\n",
       "      <td>Tuvalu</td>\n",
       "      <td>51.60</td>\n",
       "    </tr>\n",
       "    <tr>\n",
       "      <th>...</th>\n",
       "      <td>...</td>\n",
       "      <td>...</td>\n",
       "    </tr>\n",
       "    <tr>\n",
       "      <th>123</th>\n",
       "      <td>Eswatini</td>\n",
       "      <td>16.50</td>\n",
       "    </tr>\n",
       "    <tr>\n",
       "      <th>124</th>\n",
       "      <td>Malaysia</td>\n",
       "      <td>15.60</td>\n",
       "    </tr>\n",
       "    <tr>\n",
       "      <th>125</th>\n",
       "      <td>Zimbabwe</td>\n",
       "      <td>15.50</td>\n",
       "    </tr>\n",
       "    <tr>\n",
       "      <th>126</th>\n",
       "      <td>Gabon</td>\n",
       "      <td>15.00</td>\n",
       "    </tr>\n",
       "    <tr>\n",
       "      <th>127</th>\n",
       "      <td>Tajikistan</td>\n",
       "      <td>14.20</td>\n",
       "    </tr>\n",
       "  </tbody>\n",
       "</table>\n",
       "<p>128 rows × 2 columns</p>\n",
       "</div>"
      ],
      "text/plain": [
       "              country obesityrate%\n",
       "0               Nauru        61.00\n",
       "1        Cook Islands        55.90\n",
       "2               Palau        55.30\n",
       "3    Marshall Islands        52.90\n",
       "4              Tuvalu        51.60\n",
       "..                ...          ...\n",
       "123          Eswatini        16.50\n",
       "124          Malaysia        15.60\n",
       "125          Zimbabwe        15.50\n",
       "126             Gabon        15.00\n",
       "127        Tajikistan        14.20\n",
       "\n",
       "[128 rows x 2 columns]"
      ]
     },
     "execution_count": 16,
     "metadata": {},
     "output_type": "execute_result"
    }
   ],
   "source": [
    "y #Ya lo tengo limpio, columnas con los nombres bien puestos, ausencia de nulos y reset del index|ready"
   ]
  },
  {
   "cell_type": "code",
   "execution_count": 17,
   "id": "0833b34c",
   "metadata": {},
   "outputs": [],
   "source": [
    "y.to_csv('obesity_rate_data.csv',index=False) #guardo mi dataframe limpio en csv"
   ]
  },
  {
   "cell_type": "code",
   "execution_count": null,
   "id": "97abaceb",
   "metadata": {},
   "outputs": [],
   "source": []
  }
 ],
 "metadata": {
  "kernelspec": {
   "display_name": "new1",
   "language": "python",
   "name": "new1"
  },
  "language_info": {
   "codemirror_mode": {
    "name": "ipython",
    "version": 3
   },
   "file_extension": ".py",
   "mimetype": "text/x-python",
   "name": "python",
   "nbconvert_exporter": "python",
   "pygments_lexer": "ipython3",
   "version": "3.8.12"
  }
 },
 "nbformat": 4,
 "nbformat_minor": 5
}
