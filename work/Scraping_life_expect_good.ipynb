{
 "cells": [
  {
   "cell_type": "code",
   "execution_count": 1,
   "id": "3a77a44c",
   "metadata": {},
   "outputs": [],
   "source": [
    "import requests as req\n",
    "from bs4 import BeautifulSoup as bs\n",
    "import pandas as pd\n",
    "import json\n",
    "import selenium\n",
    "from selenium import webdriver\n",
    "import os\n",
    "from selenium.webdriver.chrome.options import Options\n",
    "from selenium.webdriver.common.by import By\n",
    "import time \n",
    "import numpy as np\n",
    "#Importo todo lo necesario para el scraping"
   ]
  },
  {
   "cell_type": "code",
   "execution_count": 2,
   "id": "2902aa26",
   "metadata": {},
   "outputs": [],
   "source": [
    "#driver configuration\n",
    "opciones=Options()\n",
    "\n",
    "opciones.add_experimental_option('excludeSwitches', ['enable-automation'])\n",
    "opciones.add_experimental_option('useAutomationExtension', False)\n",
    "opciones.headless=False    # si True, no aperece la ventana (headless=no visible)\n",
    "opciones.add_argument('--start-maximized')         # comienza maximizado\n",
    "#opciones.add_argument('user-data-dir=selenium')    # mantiene las cookies\n",
    "#opciones.add_extension('driver_folder/adblock.crx')       # adblocker\n",
    "opciones.add_argument('--incognito')\n",
    "opciones.add_argument(\"--no-sandbox\")\n",
    "opciones.add_argument(\"--disable-setuid-sandbox\")"
   ]
  },
  {
   "cell_type": "code",
   "execution_count": 3,
   "id": "4fd9da1e",
   "metadata": {},
   "outputs": [
    {
     "name": "stderr",
     "output_type": "stream",
     "text": [
      "/tmp/ipykernel_7855/3838757253.py:2: DeprecationWarning: executable_path has been deprecated, please pass in a Service object\n",
      "  driver = webdriver.Chrome(driver,options = opciones)\n",
      "/tmp/ipykernel_7855/3838757253.py:6: DeprecationWarning: find_element_by_* commands are deprecated. Please use find_element() instead\n",
      "  boton = driver.find_element_by_css_selector(\"#cookieconsent_box > button.cc_accept.cc_right\")\n"
     ]
    }
   ],
   "source": [
    "driver = \"./chromedriver.exe\" #ejecuto el driver\n",
    "driver = webdriver.Chrome(driver,options = opciones)\n",
    "url = 'https://www.worlddata.info/life-expectancy.php' #selecciono la web sobre la que trabajare\n",
    "driver.get(url) #accedo a la info de la web \n",
    "time.sleep(5)\n",
    "boton = driver.find_element_by_css_selector(\"#cookieconsent_box > button.cc_accept.cc_right\")\n",
    "boton.click() #hago click en las cookis que me aparecen para acceder a los datos"
   ]
  },
  {
   "cell_type": "code",
   "execution_count": 4,
   "id": "af8537d1",
   "metadata": {},
   "outputs": [
    {
     "data": {
      "text/plain": [
       "bs4.element.ResultSet"
      ]
     },
     "execution_count": 4,
     "metadata": {},
     "output_type": "execute_result"
    }
   ],
   "source": [
    "html=req.get(url)\n",
    "soup = bs(html.text,'html.parser')\n",
    "tabla = soup.find_all('table',class_=\"std100 hover\") \n",
    "type(tabla) #obtengo un objeto de bs en el cual se encuentra la información que busco"
   ]
  },
  {
   "cell_type": "code",
   "execution_count": 5,
   "id": "be19f8dd",
   "metadata": {},
   "outputs": [],
   "source": [
    "link=tabla[0].find_all('td')\n"
   ]
  },
  {
   "cell_type": "code",
   "execution_count": 6,
   "id": "9f18c461",
   "metadata": {},
   "outputs": [
    {
     "data": {
      "text/plain": [
       "600"
      ]
     },
     "execution_count": 6,
     "metadata": {},
     "output_type": "execute_result"
    }
   ],
   "source": [
    "link[0].text.strip().split('\\n')[0]\n",
    "link[1].text.strip().split('\\n')[0]\n",
    "len(link)\n"
   ]
  },
  {
   "cell_type": "code",
   "execution_count": 7,
   "id": "de367521",
   "metadata": {},
   "outputs": [],
   "source": [
    "arr = []\n",
    "for b in range(0,600):\n",
    "    arr.append(link[b].text.strip().split('\\n')[0]) #obtengo un array con todos mis datos juntos"
   ]
  },
  {
   "cell_type": "code",
   "execution_count": 8,
   "id": "a5a67da4",
   "metadata": {},
   "outputs": [
    {
     "data": {
      "text/plain": [
       "600"
      ]
     },
     "execution_count": 8,
     "metadata": {},
     "output_type": "execute_result"
    }
   ],
   "source": [
    "len(arr)"
   ]
  },
  {
   "cell_type": "code",
   "execution_count": 10,
   "id": "57716ad6",
   "metadata": {},
   "outputs": [],
   "source": [
    "def marico(arr, size):\n",
    "     arrs = []\n",
    "     while len(arr) > size:\n",
    "         pice = arr[:size]\n",
    "         arrs.append(pice)\n",
    "         arr   = arr[size:]\n",
    "     arrs.append(arr)\n",
    "     return arrs"
   ]
  },
  {
   "cell_type": "code",
   "execution_count": 11,
   "id": "35381cee",
   "metadata": {},
   "outputs": [],
   "source": [
    "rows = marico(arr, 5) #sobre mis rows extraidas del objeto bs aplico mi funcion y separo mis datos para trabajar más facil "
   ]
  },
  {
   "cell_type": "code",
   "execution_count": 12,
   "id": "7f8a674e",
   "metadata": {},
   "outputs": [
    {
     "data": {
      "text/plain": [
       "[['Hong Kong', '82.2 years', '88.1 years', '7.0 ‰', '6.5 ‰'],\n",
       " ['Switzerland', '81.9 years', '85.6 years', '10.0 ‰', '7.9 ‰'],\n",
       " ['Japan', '81.4 years', '87.5 years', '7.0 ‰', '11.1 ‰'],\n",
       " ['Singapore', '81.4 years', '85.7 years', '8.8 ‰', '5.0 ‰'],\n",
       " ['Sweden', '81.3 years', '84.7 years', '11.1 ‰', '8.6 ‰'],\n",
       " ['Macao', '81.3 years', '87.2 years', '10.9 ‰', '4.0 ‰'],\n",
       " ['Norway', '81.2 years', '84.7 years', '10.2 ‰', '7.6 ‰'],\n",
       " ['Italy', '81.1 years', '85.4 years', '7.0 ‰', '10.5 ‰'],\n",
       " ['Israel', '81.0 years', '84.7 years', '20.1 ‰', '5.1 ‰'],\n",
       " ['Iceland', '81.0 years', '84.2 years', '12.3 ‰', '6.3 ‰'],\n",
       " ['Spain', '80.9 years', '86.2 years', '7.6 ‰', '8.8 ‰'],\n",
       " ['Australia', '80.9 years', '85.0 years', '12.1 ‰', '6.7 ‰'],\n",
       " ['Netherlands', '80.5 years', '83.6 years', '9.7 ‰', '8.8 ‰'],\n",
       " ['Ireland', '80.4 years', '84.3 years', '12.1 ‰', '6.3 ‰'],\n",
       " ['Luxembourg', '80.3 years', '84.7 years', '10.0 ‰', '6.9 ‰'],\n",
       " ['South Korea', '80.3 years', '86.3 years', '5.9 ‰', '5.7 ‰'],\n",
       " ['Canada', '80.0 years', '84.2 years', '9.9 ‰', '7.6 ‰'],\n",
       " ['New Zealand', '80.0 years', '83.5 years', '12.0 ‰', '6.9 ‰'],\n",
       " ['France', '79.7 years', '85.6 years', '11.2 ‰', '9.1 ‰'],\n",
       " ['Belgium', '79.6 years', '84.0 years', '10.1 ‰', '9.5 ‰'],\n",
       " ['Austria', '79.5 years', '84.2 years', '9.6 ‰', '9.4 ‰'],\n",
       " ['Greece', '79.5 years', '84.5 years', '7.8 ‰', '11.7 ‰'],\n",
       " ['United Kingdom', '79.4 years', '83.1 years', '10.7 ‰', '9.0 ‰'],\n",
       " ['Denmark', '79.3 years', '83.2 years', '10.5 ‰', '9.3 ‰'],\n",
       " ['Finland', '79.2 years', '84.5 years', '8.3 ‰', '9.8 ‰'],\n",
       " ['Qatar', '79.1 years', '82.0 years', '9.4 ‰', '1.2 ‰'],\n",
       " ['Germany', '78.6 years', '83.4 years', '9.4 ‰', '11.3 ‰'],\n",
       " ['Slovenia', '78.5 years', '84.2 years', '9.3 ‰', '9.9 ‰'],\n",
       " ['Bermuda', '78.1 years', '85.8 years', '8.3 ‰', '8.4 ‰'],\n",
       " ['Portugal', '78.0 years', '83.5 years', '8.4 ‰', '10.9 ‰'],\n",
       " ['Chile', '77.8 years', '82.4 years', '12.2 ‰', '6.3 ‰'],\n",
       " ['Costa Rica', '77.7 years', '82.9 years', '13.7 ‰', '5.2 ‰'],\n",
       " ['United Arab Emirates', '77.3 years', '79.3 years', '10.2 ‰', '1.5 ‰'],\n",
       " ['Albania', '77.0 years', '80.2 years', '11.6 ‰', '8.1 ‰'],\n",
       " ['Cuba', '76.8 years', '80.8 years', '10.0 ‰', '9.1 ‰'],\n",
       " ['Puerto Rico', '76.5 years', '83.5 years', '6.4 ‰', '9.4 ‰'],\n",
       " ['Bahrain', '76.4 years', '78.4 years', '13.6 ‰', '2.4 ‰'],\n",
       " ['United States', '76.3 years', '81.4 years', '11.4 ‰', '8.7 ‰'],\n",
       " ['Czechia', '76.3 years', '82.1 years', '10.5 ‰', '10.5 ‰'],\n",
       " ['Algeria', '75.7 years', '78.1 years', '23.6 ‰', '4.7 ‰'],\n",
       " ['Iran', '75.6 years', '77.9 years', '18.4 ‰', '4.8 ‰'],\n",
       " ['Morocco', '75.4 years', '77.9 years', '18.5 ‰', '5.1 ‰'],\n",
       " ['Croatia', '75.4 years', '81.6 years', '8.9 ‰', '12.7 ‰'],\n",
       " ['Bosnia and Herzegovina', '74.9 years', '79.9 years', '7.9 ‰', '10.9 ‰'],\n",
       " ['China', '74.8 years', '79.2 years', '10.5 ‰', '7.1 ‰'],\n",
       " ['Kuwait', '74.8 years', '76.6 years', '13.3 ‰', '2.8 ‰'],\n",
       " ['Turkey', '74.7 years', '80.6 years', '15.8 ‰', '5.4 ‰'],\n",
       " ['Colombia', '74.5 years', '80.0 years', '14.7 ‰', '5.6 ‰'],\n",
       " ['Montenegro', '74.4 years', '79.3 years', '11.7 ‰', '10.8 ‰'],\n",
       " ['Estonia', '74.4 years', '82.8 years', '10.6 ‰', '11.6 ‰'],\n",
       " ['Ecuador', '74.3 years', '79.8 years', '19.5 ‰', '5.1 ‰'],\n",
       " ['Malaysia', '74.2 years', '78.3 years', '16.6 ‰', '5.2 ‰'],\n",
       " ['Poland', '74.1 years', '81.8 years', '9.9 ‰', '10.8 ‰'],\n",
       " ['Peru', '74.1 years', '79.5 years', '17.8 ‰', '5.6 ‰'],\n",
       " ['Saudi Arabia', '73.9 years', '76.8 years', '17.3 ‰', '3.5 ‰'],\n",
       " ['North Macedonia', '73.8 years', '77.8 years', '10.7 ‰', '10.1 ‰'],\n",
       " ['Sri Lanka', '73.6 years', '80.3 years', '15.5 ‰', '6.8 ‰'],\n",
       " ['Thailand', '73.5 years', '80.9 years', '10.2 ‰', '7.8 ‰'],\n",
       " ['Argentina', '73.2 years', '80.0 years', '16.8 ‰', '7.6 ‰'],\n",
       " ['Serbia', '73.1 years', '78.4 years', '9.3 ‰', '14.6 ‰'],\n",
       " ['Honduras', '73.0 years', '77.6 years', '21.3 ‰', '4.5 ‰'],\n",
       " ['Hungary', '72.9 years', '79.3 years', '9.5 ‰', '13.3 ‰'],\n",
       " ['Jamaica', '72.9 years', '76.1 years', '15.9 ‰', '7.6 ‰'],\n",
       " ['West Bank', '72.4 years', '75.8 years', '28.7 ‰', '3.5 ‰'],\n",
       " ['Paraguay', '72.3 years', '76.4 years', '20.3 ‰', '5.5 ‰'],\n",
       " ['Brazil', '72.2 years', '79.6 years', '13.7 ‰', '6.5 ‰'],\n",
       " ['Mexico', '72.2 years', '77.9 years', '17.3 ‰', '6.1 ‰'],\n",
       " ['Romania', '71.8 years', '79.3 years', '9.6 ‰', '13.4 ‰'],\n",
       " ['Lithuania', '71.5 years', '81.0 years', '9.8 ‰', '13.7 ‰'],\n",
       " ['Bulgaria', '71.5 years', '78.5 years', '8.8 ‰', '15.5 ‰'],\n",
       " ['Guatemala', '71.4 years', '77.2 years', '24.2 ‰', '4.7 ‰'],\n",
       " ['Armenia', '71.3 years', '78.5 years', '13.6 ‰', '9.8 ‰'],\n",
       " ['Vietnam', '71.3 years', '79.5 years', '16.5 ‰', '6.4 ‰'],\n",
       " ['Mauritius', '71.1 years', '77.6 years', '10.2 ‰', '8.8 ‰'],\n",
       " ['Bangladesh', '70.9 years', '74.6 years', '17.9 ‰', '5.5 ‰'],\n",
       " ['Latvia', '70.8 years', '79.9 years', '9.8 ‰', '14.5 ‰'],\n",
       " ['Azerbaijan', '70.5 years', '75.5 years', '14.1 ‰', '5.6 ‰'],\n",
       " ['Egypt', '69.7 years', '74.4 years', '25.7 ‰', '5.8 ‰'],\n",
       " ['Indonesia', '69.6 years', '74.0 years', '17.7 ‰', '6.5 ‰'],\n",
       " ['Georgia', '69.3 years', '78.1 years', '13.2 ‰', '12.8 ‰'],\n",
       " ['Belarus', '69.3 years', '79.4 years', '9.3 ‰', '12.8 ‰'],\n",
       " ['Nepal', '69.3 years', '72.2 years', '19.6 ‰', '6.3 ‰'],\n",
       " ['Kazakhstan', '68.8 years', '77.3 years', '21.7 ‰', '7.2 ‰'],\n",
       " ['Bolivia', '68.7 years', '74.5 years', '21.5 ‰', '6.8 ‰'],\n",
       " ['North Korea', '68.6 years', '75.7 years', '13.8 ‰', '9.2 ‰'],\n",
       " ['Iraq', '68.6 years', '72.7 years', '28.6 ‰', '4.7 ‰'],\n",
       " ['India', '68.5 years', '71.0 years', '17.6 ‰', '7.3 ‰'],\n",
       " ['El Salvador', '68.5 years', '77.8 years', '18.1 ‰', '7.1 ‰'],\n",
       " ['Venezuela', '68.3 years', '76.0 years', '17.6 ‰', '7.1 ‰'],\n",
       " ['Russia', '68.2 years', '78.2 years', '9.8 ‰', '13.3 ‰'],\n",
       " ['Cambodia', '67.5 years', '71.9 years', '22.0 ‰', '6.0 ‰'],\n",
       " ['Timor-Leste', '67.5 years', '71.6 years', '29.3 ‰', '5.9 ‰'],\n",
       " ['Philippines', '67.3 years', '75.5 years', '20.2 ‰', '5.9 ‰'],\n",
       " ['Ukraine', '66.9 years', '77.0 years', '8.1 ‰', '14.7 ‰'],\n",
       " ['Pakistan', '66.3 years', '68.3 years', '27.8 ‰', '6.9 ‰'],\n",
       " ['Mongolia', '65.8 years', '74.1 years', '23.4 ‰', '6.3 ‰'],\n",
       " ['Senegal', '65.8 years', '69.9 years', '34.0 ‰', '5.6 ‰'],\n",
       " ['Madagascar', '65.4 years', '68.7 years', '32.4 ‰', '5.9 ‰'],\n",
       " ['Ethiopia', '64.7 years', '68.5 years', '31.9 ‰', '6.4 ‰'],\n",
       " ['Yemen', '64.4 years', '67.8 years', '29.9 ‰', '6.0 ‰'],\n",
       " ['Kenya', '64.3 years', '69.0 years', '28.3 ‰', '5.4 ‰'],\n",
       " ['Burma', '64.0 years', '70.1 years', '17.4 ‰', '8.2 ‰'],\n",
       " ['Sudan', '63.5 years', '67.2 years', '31.8 ‰', '7.1 ‰'],\n",
       " ['Afghanistan', '63.4 years', '66.4 years', '31.8 ‰', '6.3 ‰'],\n",
       " ['Ghana', '63.0 years', '65.2 years', '29.0 ‰', '7.2 ‰'],\n",
       " ['Haiti', '61.8 years', '66.2 years', '24.0 ‰', '8.4 ‰'],\n",
       " ['Niger', '61.3 years', '63.6 years', '45.6 ‰', '8.0 ‰'],\n",
       " ['Zambia', '60.8 years', '66.9 years', '35.8 ‰', '6.3 ‰'],\n",
       " ['South Africa', '60.7 years', '67.7 years', '20.1 ‰', '9.4 ‰'],\n",
       " ['Gambia', '60.7 years', '63.5 years', '38.1 ‰', '7.7 ‰'],\n",
       " ['Zimbabwe', '59.8 years', '62.9 years', '29.7 ‰', '7.8 ‰'],\n",
       " ['Congo (Dem. Republic)', '59.1 years', '62.2 years', '40.6 ‰', '9.3 ‰'],\n",
       " ['Angola', '58.4 years', '64.0 years', '40.2 ‰', '8.0 ‰'],\n",
       " ['Cameroon', '58.0 years', '60.6 years', '34.9 ‰', '9.1 ‰'],\n",
       " ['Equatorial Guinea', '57.7 years', '59.9 years', '32.8 ‰', '9.1 ‰'],\n",
       " ['Ivory Coast', '56.6 years', '59.1 years', '35.5 ‰', '9.9 ‰'],\n",
       " ['Somalia', '55.7 years', '59.1 years', '41.6 ‰', '10.7 ‰'],\n",
       " ['Nigeria', '53.8 years', '55.6 years', '37.4 ‰', '11.6 ‰'],\n",
       " ['Chad', '52.8 years', '55.7 years', '41.7 ‰', '11.9 ‰'],\n",
       " ['Central Africa', '51.1 years', '55.5 years', '35.1 ‰', '12.0 ‰']]"
      ]
     },
     "execution_count": 12,
     "metadata": {},
     "output_type": "execute_result"
    }
   ],
   "source": [
    "rows"
   ]
  },
  {
   "cell_type": "code",
   "execution_count": 13,
   "id": "6c604980",
   "metadata": {},
   "outputs": [],
   "source": [
    "df= pd.DataFrame(rows) #paso a un dataframe la info que he obtenido y acabo de limpiar "
   ]
  },
  {
   "cell_type": "code",
   "execution_count": 14,
   "id": "9a3b45ae",
   "metadata": {},
   "outputs": [],
   "source": [
    "df.columns = ['country','life_expectancy_males','life_expectancy_females','birth_rate%','death_rate%'] \n",
    "#doy un nuevo nombre a mis columnas"
   ]
  },
  {
   "cell_type": "code",
   "execution_count": 15,
   "id": "5c3c4ab3",
   "metadata": {},
   "outputs": [
    {
     "data": {
      "text/html": [
       "<div>\n",
       "<style scoped>\n",
       "    .dataframe tbody tr th:only-of-type {\n",
       "        vertical-align: middle;\n",
       "    }\n",
       "\n",
       "    .dataframe tbody tr th {\n",
       "        vertical-align: top;\n",
       "    }\n",
       "\n",
       "    .dataframe thead th {\n",
       "        text-align: right;\n",
       "    }\n",
       "</style>\n",
       "<table border=\"1\" class=\"dataframe\">\n",
       "  <thead>\n",
       "    <tr style=\"text-align: right;\">\n",
       "      <th></th>\n",
       "      <th>country</th>\n",
       "      <th>life_expectancy_males</th>\n",
       "      <th>life_expectancy_females</th>\n",
       "      <th>birth_rate%</th>\n",
       "      <th>death_rate%</th>\n",
       "    </tr>\n",
       "  </thead>\n",
       "  <tbody>\n",
       "    <tr>\n",
       "      <th>0</th>\n",
       "      <td>Hong Kong</td>\n",
       "      <td>82.2 years</td>\n",
       "      <td>88.1 years</td>\n",
       "      <td>7.0 ‰</td>\n",
       "      <td>6.5 ‰</td>\n",
       "    </tr>\n",
       "    <tr>\n",
       "      <th>1</th>\n",
       "      <td>Switzerland</td>\n",
       "      <td>81.9 years</td>\n",
       "      <td>85.6 years</td>\n",
       "      <td>10.0 ‰</td>\n",
       "      <td>7.9 ‰</td>\n",
       "    </tr>\n",
       "    <tr>\n",
       "      <th>2</th>\n",
       "      <td>Japan</td>\n",
       "      <td>81.4 years</td>\n",
       "      <td>87.5 years</td>\n",
       "      <td>7.0 ‰</td>\n",
       "      <td>11.1 ‰</td>\n",
       "    </tr>\n",
       "    <tr>\n",
       "      <th>3</th>\n",
       "      <td>Singapore</td>\n",
       "      <td>81.4 years</td>\n",
       "      <td>85.7 years</td>\n",
       "      <td>8.8 ‰</td>\n",
       "      <td>5.0 ‰</td>\n",
       "    </tr>\n",
       "    <tr>\n",
       "      <th>4</th>\n",
       "      <td>Sweden</td>\n",
       "      <td>81.3 years</td>\n",
       "      <td>84.7 years</td>\n",
       "      <td>11.1 ‰</td>\n",
       "      <td>8.6 ‰</td>\n",
       "    </tr>\n",
       "    <tr>\n",
       "      <th>...</th>\n",
       "      <td>...</td>\n",
       "      <td>...</td>\n",
       "      <td>...</td>\n",
       "      <td>...</td>\n",
       "      <td>...</td>\n",
       "    </tr>\n",
       "    <tr>\n",
       "      <th>115</th>\n",
       "      <td>Ivory Coast</td>\n",
       "      <td>56.6 years</td>\n",
       "      <td>59.1 years</td>\n",
       "      <td>35.5 ‰</td>\n",
       "      <td>9.9 ‰</td>\n",
       "    </tr>\n",
       "    <tr>\n",
       "      <th>116</th>\n",
       "      <td>Somalia</td>\n",
       "      <td>55.7 years</td>\n",
       "      <td>59.1 years</td>\n",
       "      <td>41.6 ‰</td>\n",
       "      <td>10.7 ‰</td>\n",
       "    </tr>\n",
       "    <tr>\n",
       "      <th>117</th>\n",
       "      <td>Nigeria</td>\n",
       "      <td>53.8 years</td>\n",
       "      <td>55.6 years</td>\n",
       "      <td>37.4 ‰</td>\n",
       "      <td>11.6 ‰</td>\n",
       "    </tr>\n",
       "    <tr>\n",
       "      <th>118</th>\n",
       "      <td>Chad</td>\n",
       "      <td>52.8 years</td>\n",
       "      <td>55.7 years</td>\n",
       "      <td>41.7 ‰</td>\n",
       "      <td>11.9 ‰</td>\n",
       "    </tr>\n",
       "    <tr>\n",
       "      <th>119</th>\n",
       "      <td>Central Africa</td>\n",
       "      <td>51.1 years</td>\n",
       "      <td>55.5 years</td>\n",
       "      <td>35.1 ‰</td>\n",
       "      <td>12.0 ‰</td>\n",
       "    </tr>\n",
       "  </tbody>\n",
       "</table>\n",
       "<p>120 rows × 5 columns</p>\n",
       "</div>"
      ],
      "text/plain": [
       "            country life_expectancy_males life_expectancy_females birth_rate%  \\\n",
       "0         Hong Kong            82.2 years              88.1 years       7.0 ‰   \n",
       "1       Switzerland            81.9 years              85.6 years      10.0 ‰   \n",
       "2             Japan            81.4 years              87.5 years       7.0 ‰   \n",
       "3         Singapore            81.4 years              85.7 years       8.8 ‰   \n",
       "4            Sweden            81.3 years              84.7 years      11.1 ‰   \n",
       "..              ...                   ...                     ...         ...   \n",
       "115     Ivory Coast            56.6 years              59.1 years      35.5 ‰   \n",
       "116         Somalia            55.7 years              59.1 years      41.6 ‰   \n",
       "117         Nigeria            53.8 years              55.6 years      37.4 ‰   \n",
       "118            Chad            52.8 years              55.7 years      41.7 ‰   \n",
       "119  Central Africa            51.1 years              55.5 years      35.1 ‰   \n",
       "\n",
       "    death_rate%  \n",
       "0         6.5 ‰  \n",
       "1         7.9 ‰  \n",
       "2        11.1 ‰  \n",
       "3         5.0 ‰  \n",
       "4         8.6 ‰  \n",
       "..          ...  \n",
       "115       9.9 ‰  \n",
       "116      10.7 ‰  \n",
       "117      11.6 ‰  \n",
       "118      11.9 ‰  \n",
       "119      12.0 ‰  \n",
       "\n",
       "[120 rows x 5 columns]"
      ]
     },
     "execution_count": 15,
     "metadata": {},
     "output_type": "execute_result"
    }
   ],
   "source": [
    "df"
   ]
  },
  {
   "cell_type": "code",
   "execution_count": 16,
   "id": "856777c2",
   "metadata": {},
   "outputs": [],
   "source": [
    "def quitamierda(string):\n",
    "    '''\n",
    "    Funcion que limpia de % mis columnas para evitar problemas\n",
    "    ignora los NaN para poder ejecutarse\n",
    "    '''\n",
    "    if type(string)==float:\n",
    "        return string\n",
    "    else:\n",
    "        return string.replace('‰',' ').strip()"
   ]
  },
  {
   "cell_type": "code",
   "execution_count": 17,
   "id": "f508fd61",
   "metadata": {},
   "outputs": [
    {
     "data": {
      "text/plain": [
       "'37.4'"
      ]
     },
     "execution_count": 17,
     "metadata": {},
     "output_type": "execute_result"
    }
   ],
   "source": [
    "quitamierda('37.4 ‰')"
   ]
  },
  {
   "cell_type": "code",
   "execution_count": 18,
   "id": "f87e4a57",
   "metadata": {},
   "outputs": [
    {
     "data": {
      "text/plain": [
       "0"
      ]
     },
     "execution_count": 18,
     "metadata": {},
     "output_type": "execute_result"
    }
   ],
   "source": [
    "df['birth_rate%'].isna().sum()"
   ]
  },
  {
   "cell_type": "code",
   "execution_count": 19,
   "id": "2012d409",
   "metadata": {},
   "outputs": [],
   "source": [
    "df['birth_rate%'] = df['birth_rate%'].apply(quitamierda)\n",
    "df['death_rate%'] = df['death_rate%'].apply(quitamierda)"
   ]
  },
  {
   "cell_type": "code",
   "execution_count": 20,
   "id": "aac12fa8",
   "metadata": {},
   "outputs": [
    {
     "data": {
      "text/html": [
       "<div>\n",
       "<style scoped>\n",
       "    .dataframe tbody tr th:only-of-type {\n",
       "        vertical-align: middle;\n",
       "    }\n",
       "\n",
       "    .dataframe tbody tr th {\n",
       "        vertical-align: top;\n",
       "    }\n",
       "\n",
       "    .dataframe thead th {\n",
       "        text-align: right;\n",
       "    }\n",
       "</style>\n",
       "<table border=\"1\" class=\"dataframe\">\n",
       "  <thead>\n",
       "    <tr style=\"text-align: right;\">\n",
       "      <th></th>\n",
       "      <th>country</th>\n",
       "      <th>life_expectancy_males</th>\n",
       "      <th>life_expectancy_females</th>\n",
       "      <th>birth_rate%</th>\n",
       "      <th>death_rate%</th>\n",
       "    </tr>\n",
       "  </thead>\n",
       "  <tbody>\n",
       "    <tr>\n",
       "      <th>0</th>\n",
       "      <td>Hong Kong</td>\n",
       "      <td>82.2 years</td>\n",
       "      <td>88.1 years</td>\n",
       "      <td>7.0</td>\n",
       "      <td>6.5</td>\n",
       "    </tr>\n",
       "    <tr>\n",
       "      <th>1</th>\n",
       "      <td>Switzerland</td>\n",
       "      <td>81.9 years</td>\n",
       "      <td>85.6 years</td>\n",
       "      <td>10.0</td>\n",
       "      <td>7.9</td>\n",
       "    </tr>\n",
       "    <tr>\n",
       "      <th>2</th>\n",
       "      <td>Japan</td>\n",
       "      <td>81.4 years</td>\n",
       "      <td>87.5 years</td>\n",
       "      <td>7.0</td>\n",
       "      <td>11.1</td>\n",
       "    </tr>\n",
       "    <tr>\n",
       "      <th>3</th>\n",
       "      <td>Singapore</td>\n",
       "      <td>81.4 years</td>\n",
       "      <td>85.7 years</td>\n",
       "      <td>8.8</td>\n",
       "      <td>5.0</td>\n",
       "    </tr>\n",
       "    <tr>\n",
       "      <th>4</th>\n",
       "      <td>Sweden</td>\n",
       "      <td>81.3 years</td>\n",
       "      <td>84.7 years</td>\n",
       "      <td>11.1</td>\n",
       "      <td>8.6</td>\n",
       "    </tr>\n",
       "    <tr>\n",
       "      <th>...</th>\n",
       "      <td>...</td>\n",
       "      <td>...</td>\n",
       "      <td>...</td>\n",
       "      <td>...</td>\n",
       "      <td>...</td>\n",
       "    </tr>\n",
       "    <tr>\n",
       "      <th>115</th>\n",
       "      <td>Ivory Coast</td>\n",
       "      <td>56.6 years</td>\n",
       "      <td>59.1 years</td>\n",
       "      <td>35.5</td>\n",
       "      <td>9.9</td>\n",
       "    </tr>\n",
       "    <tr>\n",
       "      <th>116</th>\n",
       "      <td>Somalia</td>\n",
       "      <td>55.7 years</td>\n",
       "      <td>59.1 years</td>\n",
       "      <td>41.6</td>\n",
       "      <td>10.7</td>\n",
       "    </tr>\n",
       "    <tr>\n",
       "      <th>117</th>\n",
       "      <td>Nigeria</td>\n",
       "      <td>53.8 years</td>\n",
       "      <td>55.6 years</td>\n",
       "      <td>37.4</td>\n",
       "      <td>11.6</td>\n",
       "    </tr>\n",
       "    <tr>\n",
       "      <th>118</th>\n",
       "      <td>Chad</td>\n",
       "      <td>52.8 years</td>\n",
       "      <td>55.7 years</td>\n",
       "      <td>41.7</td>\n",
       "      <td>11.9</td>\n",
       "    </tr>\n",
       "    <tr>\n",
       "      <th>119</th>\n",
       "      <td>Central Africa</td>\n",
       "      <td>51.1 years</td>\n",
       "      <td>55.5 years</td>\n",
       "      <td>35.1</td>\n",
       "      <td>12.0</td>\n",
       "    </tr>\n",
       "  </tbody>\n",
       "</table>\n",
       "<p>120 rows × 5 columns</p>\n",
       "</div>"
      ],
      "text/plain": [
       "            country life_expectancy_males life_expectancy_females birth_rate%  \\\n",
       "0         Hong Kong            82.2 years              88.1 years         7.0   \n",
       "1       Switzerland            81.9 years              85.6 years        10.0   \n",
       "2             Japan            81.4 years              87.5 years         7.0   \n",
       "3         Singapore            81.4 years              85.7 years         8.8   \n",
       "4            Sweden            81.3 years              84.7 years        11.1   \n",
       "..              ...                   ...                     ...         ...   \n",
       "115     Ivory Coast            56.6 years              59.1 years        35.5   \n",
       "116         Somalia            55.7 years              59.1 years        41.6   \n",
       "117         Nigeria            53.8 years              55.6 years        37.4   \n",
       "118            Chad            52.8 years              55.7 years        41.7   \n",
       "119  Central Africa            51.1 years              55.5 years        35.1   \n",
       "\n",
       "    death_rate%  \n",
       "0           6.5  \n",
       "1           7.9  \n",
       "2          11.1  \n",
       "3           5.0  \n",
       "4           8.6  \n",
       "..          ...  \n",
       "115         9.9  \n",
       "116        10.7  \n",
       "117        11.6  \n",
       "118        11.9  \n",
       "119        12.0  \n",
       "\n",
       "[120 rows x 5 columns]"
      ]
     },
     "execution_count": 20,
     "metadata": {},
     "output_type": "execute_result"
    }
   ],
   "source": [
    "df"
   ]
  },
  {
   "cell_type": "code",
   "execution_count": 21,
   "id": "66d30151",
   "metadata": {},
   "outputs": [],
   "source": [
    "df.to_csv('life_expectancy_data.csv', index=False) #guardo mi dataframe limpio en csv"
   ]
  },
  {
   "cell_type": "code",
   "execution_count": null,
   "id": "37047815",
   "metadata": {},
   "outputs": [],
   "source": []
  }
 ],
 "metadata": {
  "kernelspec": {
   "display_name": "new1",
   "language": "python",
   "name": "new1"
  },
  "language_info": {
   "codemirror_mode": {
    "name": "ipython",
    "version": 3
   },
   "file_extension": ".py",
   "mimetype": "text/x-python",
   "name": "python",
   "nbconvert_exporter": "python",
   "pygments_lexer": "ipython3",
   "version": "3.8.12"
  }
 },
 "nbformat": 4,
 "nbformat_minor": 5
}
